{
 "cells": [
  {
   "cell_type": "code",
   "execution_count": null,
   "metadata": {
    "collapsed": true
   },
   "outputs": [],
   "source": [
    "%matplotlib inline\n",
    "import scipy\n",
    "import sympy\n",
    "import numpy as np\n",
    "import matplotlib.pyplot as plt\n",
    "from modsim import*\n",
    "\n",
    "condition = Condition(R = 5100,\n",
    "                      L = 0.1,\n",
    "                      C0 = 220 * (10 ** (-9)), \n",
    "                      V0 = 0,\n",
    "                      f0 = 1073.02)\n",
    "\n",
    "\n",
    "\n",
    "\n",
    "    \n",
    "\n",
    "\n",
    "# look at differntiate method in scipy\n",
    "# How to double integrate a function\n",
    "# Do we solve using Inductor Voltage or Resistor Voltage\n",
    "# How to include alternative current in our model\n"
   ]
  },
  {
   "cell_type": "code",
   "execution_count": null,
   "metadata": {
    "collapsed": true
   },
   "outputs": [],
   "source": [
    "def make_system(condition):\n",
    "    \n",
    "    unpack(condition)\n",
    "    \n",
    "    init = State(C = C0, f = f0, V = V0)\n",
    "    \n",
    "    \n",
    "    \n",
    "    \n",
    "    return\n",
    "                    \n",
    "    \n",
    "system = make_system(condition)"
   ]
  },
  {
   "cell_type": "code",
   "execution_count": null,
   "metadata": {
    "collapsed": true
   },
   "outputs": [],
   "source": [
    "def slope_func(state, t, system):\n",
    "    \n",
    "    Vac = (R * I) + (L * didt) + ((1 / C) * (integral of Idt))\n",
    "    \n",
    "    return\n",
    "\n",
    "slope_func(init, 0, system)"
   ]
  },
  {
   "cell_type": "code",
   "execution_count": null,
   "metadata": {
    "collapsed": true
   },
   "outputs": [],
   "source": [
    "run_odient(system, slope_func)\n"
   ]
  }
 ],
 "metadata": {
  "kernelspec": {
   "display_name": "Python 3",
   "language": "python",
   "name": "python3"
  },
  "language_info": {
   "codemirror_mode": {
    "name": "ipython",
    "version": 3
   },
   "file_extension": ".py",
   "mimetype": "text/x-python",
   "name": "python",
   "nbconvert_exporter": "python",
   "pygments_lexer": "ipython3",
   "version": "3.6.1"
  }
 },
 "nbformat": 4,
 "nbformat_minor": 2
}
