{
 "cells": [
  {
   "cell_type": "code",
   "execution_count": 1,
   "metadata": {},
   "outputs": [],
   "source": [
    "%matplotlib inline\n",
    "import scipy\n",
    "import sympy\n",
    "import numpy as np\n",
    "import matplotlib.pyplot as plt\n",
    "from modsim import*\n",
    "\n",
    "condition = Condition(R = 5100,\n",
    "                      L = 0.1,\n",
    "                      C0 = 220 * (10 ** (-9)), \n",
    "                      V0 = 5,\n",
    "                      dV0dt = 0,\n",
    "                      f0 = 1073.02, \n",
    "                      w0 = 1)\n",
    "\n",
    "\n",
    "\n",
    "\n",
    "    \n",
    "\n",
    "\n",
    "# Do research of temp dependance of L and C"
   ]
  },
  {
   "cell_type": "code",
   "execution_count": 2,
   "metadata": {
    "collapsed": true
   },
   "outputs": [],
   "source": [
    "duration = 10\n",
    "\n",
    "dt = 1\n",
    "\n",
    "ts = linrange(0, duration, dt)\n",
    "\n"
   ]
  },
  {
   "cell_type": "code",
   "execution_count": 3,
   "metadata": {},
   "outputs": [],
   "source": [
    "def make_system(condition):\n",
    "    \n",
    "    unpack(condition)\n",
    "    \n",
    "    init = State(X1 = V0, X2 = dV0dt)\n",
    "    \n",
    "    system = System(init=init, R=R, L=L, C0=C0, V0=V0, dV0dt=dV0dt, f0=f0, w0=w0)\n",
    "    \n",
    "    \n",
    "    return system\n",
    "                    \n",
    "    \n",
    "circuit = make_system(condition)"
   ]
  },
  {
   "cell_type": "code",
   "execution_count": 10,
   "metadata": {},
   "outputs": [
    {
     "data": {
      "text/plain": [
       "(0.0, -2.1568627450980394e-11)"
      ]
     },
     "execution_count": 10,
     "metadata": {},
     "output_type": "execute_result"
    }
   ],
   "source": [
    "def slope_func(state, t, circuit):\n",
    "    \n",
    "    X1, X2 = state\n",
    "    unpack(circuit)\n",
    "    \n",
    "    dX1dt = X2\n",
    "    dX2dt = ((L/R*C0) * (V0*np.degrees(np.sin(w0*t))) - ((1/R*L*C0)*X1) - ((1/L)*X2)) \n",
    "\n",
    "    \n",
    "    return dX1dt, dX2dt\n",
    "\n",
    "slope_func(circuit.init, 0, circuit)"
   ]
  },
  {
   "cell_type": "code",
   "execution_count": null,
   "metadata": {},
   "outputs": [],
   "source": [
    "run_odient(system, slope_func) # run a for loop around run_odeint\n"
   ]
  },
  {
   "cell_type": "code",
   "execution_count": null,
   "metadata": {
    "collapsed": true
   },
   "outputs": [],
   "source": []
  }
 ],
 "metadata": {
  "kernelspec": {
   "display_name": "Python 3",
   "language": "python",
   "name": "python3"
  },
  "language_info": {
   "codemirror_mode": {
    "name": "ipython",
    "version": 3
   },
   "file_extension": ".py",
   "mimetype": "text/x-python",
   "name": "python",
   "nbconvert_exporter": "python",
   "pygments_lexer": "ipython3",
   "version": "3.6.1"
  }
 },
 "nbformat": 4,
 "nbformat_minor": 2
}
